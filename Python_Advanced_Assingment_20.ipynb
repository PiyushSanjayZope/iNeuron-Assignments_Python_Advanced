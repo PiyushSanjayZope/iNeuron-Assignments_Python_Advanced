{
 "cells": [
  {
   "cell_type": "code",
   "execution_count": null,
   "id": "72ae6839",
   "metadata": {},
   "outputs": [],
   "source": [
    "\"\"\"\n",
    "1. Compare and contrast the float and Decimal classes' benefits and drawbacks.\n",
    "\n",
    "\"\"\""
   ]
  },
  {
   "cell_type": "code",
   "execution_count": null,
   "id": "153d2a3d",
   "metadata": {},
   "outputs": [],
   "source": [
    "\"\"\"\n",
    "Both the float and decimal types store numerical values in Python.\n",
    "\n",
    "Use floats when convenience and speed matter. A float gives you an approximation of the number you declare.\n",
    "\n",
    "Use decimals when precision matters. Decimals can suffer from their own precision issues, but generally, decimals are more precise than floats. The performance difference between float and decimal, with Python 3, is not outlandish, and in my experience, the precision benefits of a decimal outweigh the performance benefits of a float.\n",
    "\"\"\""
   ]
  },
  {
   "cell_type": "code",
   "execution_count": null,
   "id": "f2716535",
   "metadata": {},
   "outputs": [],
   "source": [
    "\"\"\"\n",
    "2. Decimal('1.200') and Decimal('1.2') are two objects to consider. In what sense are these the same object? Are these just two ways of representing the exact same value, or do they correspond to different internal states?\n",
    "\n",
    "\"\"\""
   ]
  },
  {
   "cell_type": "code",
   "execution_count": null,
   "id": "bc629c3d",
   "metadata": {},
   "outputs": [],
   "source": [
    "\"Both values are same but internal representation at storage Is different. Precsion differs, Decimal('1.200') gives internally 1.200 and Decimal('1.2') gives 1.2.\""
   ]
  },
  {
   "cell_type": "code",
   "execution_count": null,
   "id": "e025837a",
   "metadata": {},
   "outputs": [],
   "source": [
    "\"\"\"\n",
    "3. What happens if the equality of Decimal('1.200') and Decimal('1.2') is checked?\n",
    "\n",
    "\"\"\""
   ]
  },
  {
   "cell_type": "code",
   "execution_count": null,
   "id": "1e288bb9",
   "metadata": {},
   "outputs": [],
   "source": [
    "\"Both values are checked to be equal , they only differ in precision.\""
   ]
  },
  {
   "cell_type": "code",
   "execution_count": null,
   "id": "6302fb80",
   "metadata": {},
   "outputs": [],
   "source": [
    "\"\"\"\n",
    "4. Why is it preferable to start a Decimal object with a string rather than a floating-point value?\n",
    "\n",
    "\"\"\""
   ]
  },
  {
   "cell_type": "code",
   "execution_count": null,
   "id": "1840e8ad",
   "metadata": {},
   "outputs": [],
   "source": [
    "\"\"\"\n",
    "Floating-point value is converted to Decimal format. Decimal can store float value with absolute precision. But when float value is given as Decimal object,it first has to be converted from floating point value which might already have rounding error.\n",
    "\n",
    "Hence it is preferable to start a Decimal object with a string.\n",
    "\"\"\""
   ]
  },
  {
   "cell_type": "code",
   "execution_count": null,
   "id": "77f11491",
   "metadata": {},
   "outputs": [],
   "source": [
    "\"\"\"\n",
    "5. In an arithmetic phrase, how simple is it to combine Decimal objects with integers?\n",
    "\n",
    "\"\"\""
   ]
  },
  {
   "cell_type": "code",
   "execution_count": null,
   "id": "a057550e",
   "metadata": {},
   "outputs": [],
   "source": [
    "\"We can do it with use of Decimal().\""
   ]
  },
  {
   "cell_type": "code",
   "execution_count": null,
   "id": "dd534948",
   "metadata": {},
   "outputs": [],
   "source": [
    "\"\"\"\n",
    "6. Can Decimal objects and floating-point values be combined easily?\n",
    "\n",
    "\"\"\""
   ]
  },
  {
   "cell_type": "code",
   "execution_count": null,
   "id": "f4dfca9b",
   "metadata": {},
   "outputs": [],
   "source": [
    "\"\"\"\n",
    "Arithmetic operfations like Adding,subtracting or multiplying a Decimal object by a floating-point value is generates an error.\n",
    "\n",
    "To do these operations, the floating point has to be converted to a Decimal.\n",
    "\"\"\""
   ]
  },
  {
   "cell_type": "code",
   "execution_count": null,
   "id": "e5bc1152",
   "metadata": {},
   "outputs": [],
   "source": [
    "\"\"\"\n",
    "7. Using the Fraction class but not the Decimal class, give an example of a quantity that can be expressed with absolute precision.\n",
    "\n",
    "\"\"\""
   ]
  },
  {
   "cell_type": "code",
   "execution_count": null,
   "id": "dbb7bcfb",
   "metadata": {},
   "outputs": [],
   "source": [
    "\"Value of 0.5 will be represented as ½.\""
   ]
  },
  {
   "cell_type": "code",
   "execution_count": null,
   "id": "b7a87a56",
   "metadata": {},
   "outputs": [],
   "source": [
    "\"\"\"\n",
    "8. Describe a quantity that can be accurately expressed by the Decimal or Fraction classes but not by a floating-point value.\n",
    "\n",
    "\"\"\""
   ]
  },
  {
   "cell_type": "code",
   "execution_count": null,
   "id": "2122f7ea",
   "metadata": {},
   "outputs": [],
   "source": [
    "\"\"\"\n",
    "One quantity that can be accurately expressed by the Decimal or Fraction classes but not by a floating-point value is the result of dividing 1 by 3.\n",
    "\n",
    "When expressed as a decimal or fraction, the result is an infinitely repeating decimal or fraction:\n",
    "\n",
    "1/3 = 0.3333... (decimal)\n",
    "1/3 = 1/3 (fraction)\n",
    "\n",
    "However, when represented as a floating-point value, the result will be an approximation with a limited number of digits, which may be subject to rounding errors. For example, in Python, the expression 1/3 returns 0.3333333333333333, which is an approximation of the true value of 1/3.\n",
    "\n",
    "Using the Decimal or Fraction classes, it is possible to represent the result of dividing 1 by 3 exactly, without any rounding errors. For example, in Python, the expression Decimal(1)/Decimal(3) returns the exact value of 1/3, which can be further manipulated and used in calculations without any loss of precision. Similarly, the Fraction class can represent 1/3 as a rational number with exact numerator and denominator values.\n",
    "\"\"\""
   ]
  },
  {
   "cell_type": "code",
   "execution_count": null,
   "id": "cab65a3d",
   "metadata": {},
   "outputs": [],
   "source": [
    "\"\"\"\n",
    "Q9.Consider the following two fraction objects: Fraction(1, 2) and Fraction(1, 2). (5, 10). Is the internal state of these two objects the same? Why do you think that is?\n",
    "\n",
    "\"\"\""
   ]
  },
  {
   "cell_type": "code",
   "execution_count": null,
   "id": "0823a96f",
   "metadata": {},
   "outputs": [],
   "source": [
    "\"Both will be reduced to 1/2\""
   ]
  },
  {
   "cell_type": "code",
   "execution_count": null,
   "id": "9f338cbb",
   "metadata": {},
   "outputs": [],
   "source": [
    "\"\"\"\n",
    "Q10. How do the Fraction class and the integer type (int) relate to each other? Containment or inheritance?\n",
    "\n",
    "\"\"\""
   ]
  },
  {
   "cell_type": "code",
   "execution_count": null,
   "id": "ca7289c0",
   "metadata": {},
   "outputs": [],
   "source": [
    "\"Fraction class and integer type(int) are related in form of a container.It contains two ints, one the numerator and the other the denominator\""
   ]
  }
 ],
 "metadata": {
  "kernelspec": {
   "display_name": "Python 3 (ipykernel)",
   "language": "python",
   "name": "python3"
  },
  "language_info": {
   "codemirror_mode": {
    "name": "ipython",
    "version": 3
   },
   "file_extension": ".py",
   "mimetype": "text/x-python",
   "name": "python",
   "nbconvert_exporter": "python",
   "pygments_lexer": "ipython3",
   "version": "3.9.12"
  }
 },
 "nbformat": 4,
 "nbformat_minor": 5
}
