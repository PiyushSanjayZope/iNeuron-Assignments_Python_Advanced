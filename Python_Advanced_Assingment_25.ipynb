{
 "cells": [
  {
   "cell_type": "code",
   "execution_count": 1,
   "id": "72ae6839",
   "metadata": {},
   "outputs": [
    {
     "data": {
      "text/plain": [
       "'\\nQ1. What is the distinction between a numpy array and a pandas data frame? Is there a way to convert between the two if there is?\\n\\n'"
      ]
     },
     "execution_count": 1,
     "metadata": {},
     "output_type": "execute_result"
    }
   ],
   "source": [
    "\"\"\"\n",
    "Q1. What is the distinction between a numpy array and a pandas data frame? Is there a way to convert between the two if there is?\n",
    "\n",
    "\"\"\""
   ]
  },
  {
   "cell_type": "code",
   "execution_count": 2,
   "id": "153d2a3d",
   "metadata": {},
   "outputs": [
    {
     "data": {
      "text/plain": [
       "'\\nNumpy Ndarray provides a lot of convenient and optimized methods for performing several mathematical operations on vectors.\\n\\nPandas Dataframe is an in-memory 2-dimensional tabular representation of data. In simpler words, it can be seen as a spreadsheet having rows and columns.\\n\\nConversion : Dataframe=pandas.DataFrame(array)\\n'"
      ]
     },
     "execution_count": 2,
     "metadata": {},
     "output_type": "execute_result"
    }
   ],
   "source": [
    "\"\"\"\n",
    "Numpy Ndarray provides a lot of convenient and optimized methods for performing several mathematical operations on vectors.\n",
    "\n",
    "Pandas Dataframe is an in-memory 2-dimensional tabular representation of data. In simpler words, it can be seen as a spreadsheet having rows and columns.\n",
    "\n",
    "Conversion : Dataframe=pandas.DataFrame(array)\n",
    "\"\"\""
   ]
  },
  {
   "cell_type": "code",
   "execution_count": 3,
   "id": "f2716535",
   "metadata": {},
   "outputs": [
    {
     "data": {
      "text/plain": [
       "'\\nQ2. What can go wrong when an user enters in a stock-ticker symbol, and how do you handle it?\\n\\n'"
      ]
     },
     "execution_count": 3,
     "metadata": {},
     "output_type": "execute_result"
    }
   ],
   "source": [
    "\"\"\"\n",
    "Q2. What can go wrong when an user enters in a stock-ticker symbol, and how do you handle it?\n",
    "\n",
    "\"\"\""
   ]
  },
  {
   "cell_type": "code",
   "execution_count": 4,
   "id": "bc629c3d",
   "metadata": {},
   "outputs": [
    {
     "data": {
      "text/plain": [
       "'\\nThere are several things that can go wrong when a user enters a stock-ticker symbol, such as:\\n\\nMisspelling or entering an incorrect symbol: Users may accidentally enter an incorrect or misspelled symbol, which may result in inaccurate or irrelevant information.\\n\\nEntering a non-existent symbol: Users may enter a symbol that does not exist, resulting in an error message.\\n\\nEntering a symbol for a different exchange: Users may enter a symbol for a stock that is listed on a different exchange, resulting in inaccurate information.\\n\\nTo handle these issues, a few strategies can be implemented:\\n\\nImplement auto-complete or suggestions: Use auto-complete or suggestions to help users enter accurate ticker symbols.\\n\\nValidate the ticker symbol: Validate the ticker symbol entered by the user before processing it to ensure that it is accurate and valid.\\n\\nProvide error messages: If the user enters an incorrect or invalid symbol, provide an error message explaining what went wrong and how to correct it.\\n\\nProvide relevant information: When the user enters a valid symbol, provide relevant information about the stock, such as current price, historical data, and news articles.\\n'"
      ]
     },
     "execution_count": 4,
     "metadata": {},
     "output_type": "execute_result"
    }
   ],
   "source": [
    "\"\"\"\n",
    "There are several things that can go wrong when a user enters a stock-ticker symbol, such as:\n",
    "\n",
    "Misspelling or entering an incorrect symbol: Users may accidentally enter an incorrect or misspelled symbol, which may result in inaccurate or irrelevant information.\n",
    "\n",
    "Entering a non-existent symbol: Users may enter a symbol that does not exist, resulting in an error message.\n",
    "\n",
    "Entering a symbol for a different exchange: Users may enter a symbol for a stock that is listed on a different exchange, resulting in inaccurate information.\n",
    "\n",
    "To handle these issues, a few strategies can be implemented:\n",
    "\n",
    "Implement auto-complete or suggestions: Use auto-complete or suggestions to help users enter accurate ticker symbols.\n",
    "\n",
    "Validate the ticker symbol: Validate the ticker symbol entered by the user before processing it to ensure that it is accurate and valid.\n",
    "\n",
    "Provide error messages: If the user enters an incorrect or invalid symbol, provide an error message explaining what went wrong and how to correct it.\n",
    "\n",
    "Provide relevant information: When the user enters a valid symbol, provide relevant information about the stock, such as current price, historical data, and news articles.\n",
    "\"\"\""
   ]
  },
  {
   "cell_type": "code",
   "execution_count": 5,
   "id": "e025837a",
   "metadata": {},
   "outputs": [
    {
     "data": {
      "text/plain": [
       "'\\nQ3. Identify some of the plotting techniques that are used to produce a stock-market chart.\\n\\n'"
      ]
     },
     "execution_count": 5,
     "metadata": {},
     "output_type": "execute_result"
    }
   ],
   "source": [
    "\"\"\"\n",
    "Q3. Identify some of the plotting techniques that are used to produce a stock-market chart.\n",
    "\n",
    "\"\"\""
   ]
  },
  {
   "cell_type": "code",
   "execution_count": 6,
   "id": "1e288bb9",
   "metadata": {},
   "outputs": [
    {
     "data": {
      "text/plain": [
       "'Bar chart, Line Chart are used for plotting.'"
      ]
     },
     "execution_count": 6,
     "metadata": {},
     "output_type": "execute_result"
    }
   ],
   "source": [
    "\"Bar chart, Line Chart are used for plotting.\""
   ]
  },
  {
   "cell_type": "code",
   "execution_count": 7,
   "id": "6302fb80",
   "metadata": {},
   "outputs": [
    {
     "data": {
      "text/plain": [
       "'\\nQ4. Why is it essential to print a legend on a stock market chart?\\n\\n'"
      ]
     },
     "execution_count": 7,
     "metadata": {},
     "output_type": "execute_result"
    }
   ],
   "source": [
    "\"\"\"\n",
    "Q4. Why is it essential to print a legend on a stock market chart?\n",
    "\n",
    "\"\"\""
   ]
  },
  {
   "cell_type": "code",
   "execution_count": 8,
   "id": "1840e8ad",
   "metadata": {},
   "outputs": [
    {
     "data": {
      "text/plain": [
       "'Legend will help comparison between different stocks, so will be essential on a stock market chart'"
      ]
     },
     "execution_count": 8,
     "metadata": {},
     "output_type": "execute_result"
    }
   ],
   "source": [
    "\"Legend will help comparison between different stocks, so will be essential on a stock market chart\""
   ]
  },
  {
   "cell_type": "code",
   "execution_count": 9,
   "id": "77f11491",
   "metadata": {},
   "outputs": [
    {
     "data": {
      "text/plain": [
       "'\\nQ5. What is the best way to limit the length of a pandas data frame to less than a year?\\n\\n'"
      ]
     },
     "execution_count": 9,
     "metadata": {},
     "output_type": "execute_result"
    }
   ],
   "source": [
    "\"\"\"\n",
    "Q5. What is the best way to limit the length of a pandas data frame to less than a year?\n",
    "\n",
    "\"\"\""
   ]
  },
  {
   "cell_type": "code",
   "execution_count": 10,
   "id": "a057550e",
   "metadata": {},
   "outputs": [
    {
     "data": {
      "text/plain": [
       "'We can use start and end parameters for that. In start we write the date from where we are starting and at the end we write the end date. SO within this span we can restric the duration.Also we can use the parameters like periods for how much times we need the duration and we can also use the frequency parameter.'"
      ]
     },
     "execution_count": 10,
     "metadata": {},
     "output_type": "execute_result"
    }
   ],
   "source": [
    "\"We can use start and end parameters for that. In start we write the date from where we are starting and at the end we write the end date. SO within this span we can restric the duration.Also we can use the parameters like periods for how much times we need the duration and we can also use the frequency parameter.\""
   ]
  },
  {
   "cell_type": "code",
   "execution_count": 11,
   "id": "480e83eb",
   "metadata": {},
   "outputs": [
    {
     "data": {
      "text/plain": [
       "'\\nQ6. What is the definition of a 180-day moving average?\\n\\n'"
      ]
     },
     "execution_count": 11,
     "metadata": {},
     "output_type": "execute_result"
    }
   ],
   "source": [
    "\"\"\"\n",
    "Q6. What is the definition of a 180-day moving average?\n",
    "\n",
    "\"\"\""
   ]
  },
  {
   "cell_type": "code",
   "execution_count": 12,
   "id": "906b6c01",
   "metadata": {},
   "outputs": [
    {
     "data": {
      "text/plain": [
       "'The 180-day moving average is represented as a line on charts and represents the average price over the past 180 days. The moving average can give traders a sense regarding whether the trend is up or down, while also identifying potential support or resistance areas.'"
      ]
     },
     "execution_count": 12,
     "metadata": {},
     "output_type": "execute_result"
    }
   ],
   "source": [
    "\"The 180-day moving average is represented as a line on charts and represents the average price over the past 180 days. The moving average can give traders a sense regarding whether the trend is up or down, while also identifying potential support or resistance areas.\""
   ]
  },
  {
   "cell_type": "code",
   "execution_count": 13,
   "id": "fb8c7d51",
   "metadata": {},
   "outputs": [
    {
     "data": {
      "text/plain": [
       "'\\nQ7. Did the chapter\\'s final example use \"indirect\" importing? If so, how exactly do you do it?\\n\\n'"
      ]
     },
     "execution_count": 13,
     "metadata": {},
     "output_type": "execute_result"
    }
   ],
   "source": [
    "\"\"\"\n",
    "Q7. Did the chapter's final example use \"indirect\" importing? If so, how exactly do you do it?\n",
    "\n",
    "\"\"\""
   ]
  },
  {
   "cell_type": "code",
   "execution_count": 14,
   "id": "4d15f70e",
   "metadata": {},
   "outputs": [
    {
     "data": {
      "text/plain": [
       "'\\nYes, the chapter\\'s final example used \"indirect\" importing.\\n\\nIndirect importing refers to importing a module through another module, rather than importing it directly in the current module. In the example, the my_program module indirectly imported the math module through the helper module.\\n'"
      ]
     },
     "execution_count": 14,
     "metadata": {},
     "output_type": "execute_result"
    }
   ],
   "source": [
    "\"\"\"\n",
    "Yes, the chapter's final example used \"indirect\" importing.\n",
    "\n",
    "Indirect importing refers to importing a module through another module, rather than importing it directly in the current module. In the example, the my_program module indirectly imported the math module through the helper module.\n",
    "\"\"\""
   ]
  },
  {
   "cell_type": "code",
   "execution_count": 15,
   "id": "e452318f",
   "metadata": {},
   "outputs": [
    {
     "data": {
      "text/plain": [
       "'\\n# helper.py\\nimport math\\n\\ndef square_root(x):\\n    return math.sqrt(x)\\n'"
      ]
     },
     "execution_count": 15,
     "metadata": {},
     "output_type": "execute_result"
    }
   ],
   "source": [
    "\"\"\"\n",
    "# helper.py\n",
    "import math\n",
    "\n",
    "def square_root(x):\n",
    "    return math.sqrt(x)\n",
    "\"\"\""
   ]
  },
  {
   "cell_type": "code",
   "execution_count": 17,
   "id": "0fdcbeb6",
   "metadata": {},
   "outputs": [
    {
     "name": "stdout",
     "output_type": "stream",
     "text": [
      "2.0\n"
     ]
    }
   ],
   "source": [
    "# my_program.py\n",
    "import helper as hp\n",
    "\n",
    "result = hp.square_root(4)\n",
    "print(result)"
   ]
  },
  {
   "cell_type": "code",
   "execution_count": null,
   "id": "c18a329f",
   "metadata": {},
   "outputs": [],
   "source": []
  }
 ],
 "metadata": {
  "kernelspec": {
   "display_name": "Python 3 (ipykernel)",
   "language": "python",
   "name": "python3"
  },
  "language_info": {
   "codemirror_mode": {
    "name": "ipython",
    "version": 3
   },
   "file_extension": ".py",
   "mimetype": "text/x-python",
   "name": "python",
   "nbconvert_exporter": "python",
   "pygments_lexer": "ipython3",
   "version": "3.9.12"
  }
 },
 "nbformat": 4,
 "nbformat_minor": 5
}
