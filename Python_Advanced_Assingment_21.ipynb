{
 "cells": [
  {
   "cell_type": "code",
   "execution_count": null,
   "id": "72ae6839",
   "metadata": {},
   "outputs": [],
   "source": [
    "\"\"\"\n",
    "Q1. What is a probability distribution, exactly? If the values are meant to be random, how can you predict them at all?\n",
    "\n",
    "\"\"\""
   ]
  },
  {
   "cell_type": "code",
   "execution_count": null,
   "id": "153d2a3d",
   "metadata": {},
   "outputs": [],
   "source": [
    "\"\"\"\n",
    "A probability distribution describes how a random variable is distributed.\n",
    "\n",
    "It tells us which values a random variable is most likely to take on and which values are less likely. Based on the previous data and the occurences of the random event, we can predict the outcome in terms of probabilities.\n",
    "\"\"\""
   ]
  },
  {
   "cell_type": "code",
   "execution_count": null,
   "id": "f2716535",
   "metadata": {},
   "outputs": [],
   "source": [
    "\"\"\"\n",
    "Q2. Is there a distinction between true random numbers and pseudo-random numbers, if there is one? Why are the latter considered “good enough”?\n",
    "\n",
    "\"\"\""
   ]
  },
  {
   "cell_type": "code",
   "execution_count": null,
   "id": "bc629c3d",
   "metadata": {},
   "outputs": [],
   "source": [
    "\"\"\"\n",
    "True Random Numbers are true physical values while pseudo-random numbers are generated internally by a program . Latter is considered good enough as they have sort of uniform distribution.\n",
    "\"\"\""
   ]
  },
  {
   "cell_type": "code",
   "execution_count": null,
   "id": "e025837a",
   "metadata": {},
   "outputs": [],
   "source": [
    "\"\"\"\n",
    "Q3. What are the two main factors that influence the behaviour of a \"normal\" probability distribution?\n",
    "\n",
    "\"\"\""
   ]
  },
  {
   "cell_type": "code",
   "execution_count": null,
   "id": "1e288bb9",
   "metadata": {},
   "outputs": [],
   "source": [
    "\"Normal Probability Distribution are influenced by two factors mean and the variance.\""
   ]
  },
  {
   "cell_type": "code",
   "execution_count": null,
   "id": "6302fb80",
   "metadata": {},
   "outputs": [],
   "source": [
    "\"\"\"\n",
    "Q4. Provide a real-life example of a normal distribution.\n",
    "\n",
    "\"\"\""
   ]
  },
  {
   "cell_type": "code",
   "execution_count": null,
   "id": "1840e8ad",
   "metadata": {},
   "outputs": [],
   "source": [
    "\"A Real-life example of a normal distribution are heights or blood pressure measurements\""
   ]
  },
  {
   "cell_type": "code",
   "execution_count": null,
   "id": "77f11491",
   "metadata": {},
   "outputs": [],
   "source": [
    "\"\"\"\n",
    "Q5. In the short term, how can you expect a probability distribution to behave? What do you think will happen as the number of trials grows?\n",
    "\n",
    "\"\"\""
   ]
  },
  {
   "cell_type": "code",
   "execution_count": null,
   "id": "a057550e",
   "metadata": {},
   "outputs": [],
   "source": [
    "\"Variance will decrease with number of trials\""
   ]
  },
  {
   "cell_type": "code",
   "execution_count": null,
   "id": "6e9dc3f5",
   "metadata": {},
   "outputs": [],
   "source": [
    "\"\"\"\n",
    "Q6. What kind of object can be shuffled by using random.shuffle?\n",
    "\n",
    "\"\"\""
   ]
  },
  {
   "cell_type": "code",
   "execution_count": null,
   "id": "4bee5f14",
   "metadata": {},
   "outputs": [],
   "source": [
    "\"lists (list), strings (str) and tuples (tuple) objects can be shuffled by using random.shuffle.\""
   ]
  },
  {
   "cell_type": "code",
   "execution_count": null,
   "id": "af68bf47",
   "metadata": {},
   "outputs": [],
   "source": [
    "\"\"\"\n",
    "Q7. Describe the math package's general categories of functions.\n",
    "\n",
    "\"\"\""
   ]
  },
  {
   "cell_type": "code",
   "execution_count": null,
   "id": "e34bd743",
   "metadata": {},
   "outputs": [],
   "source": [
    "\"\"\"\n",
    "The Math package's general categories of functions are:\n",
    "\n",
    "Trigonometric functions\n",
    "Quadratic functions\n",
    "Exponential functions\n",
    "Hyperbolic functions\n",
    "Periodic functions\n",
    "Arithmetic functions\n",
    "Logarithimic functions\n",
    "Conversions to Integer\n",
    "\"\"\""
   ]
  },
  {
   "cell_type": "code",
   "execution_count": null,
   "id": "237fb572",
   "metadata": {},
   "outputs": [],
   "source": [
    "\"\"\"\n",
    "Q8. What is the relationship between exponentiation and logarithms?\n",
    "\n",
    "\"\"\""
   ]
  },
  {
   "cell_type": "code",
   "execution_count": null,
   "id": "e2fe2886",
   "metadata": {},
   "outputs": [],
   "source": [
    "\"Exponentiation and logarithms are inverse of each other.\""
   ]
  },
  {
   "cell_type": "code",
   "execution_count": null,
   "id": "e455f974",
   "metadata": {},
   "outputs": [],
   "source": [
    "\"\"\"\n",
    "Q9. What are the three logarithmic functions that Python supports?\n",
    "\n",
    "\"\"\""
   ]
  },
  {
   "cell_type": "code",
   "execution_count": null,
   "id": "e77b46e6",
   "metadata": {},
   "outputs": [],
   "source": [
    "\"\"\"\n",
    "The Three Logarithmic Functions that Python supports are:\n",
    "\n",
    "log2(x) - logarithmic value of x to base 2\n",
    "log10(x) - logarithmic value of x to base 10\n",
    "log1p(a) - This function is used to compute logarithm(1+a) .\n",
    "\"\"\""
   ]
  }
 ],
 "metadata": {
  "kernelspec": {
   "display_name": "Python 3 (ipykernel)",
   "language": "python",
   "name": "python3"
  },
  "language_info": {
   "codemirror_mode": {
    "name": "ipython",
    "version": 3
   },
   "file_extension": ".py",
   "mimetype": "text/x-python",
   "name": "python",
   "nbconvert_exporter": "python",
   "pygments_lexer": "ipython3",
   "version": "3.9.12"
  }
 },
 "nbformat": 4,
 "nbformat_minor": 5
}
